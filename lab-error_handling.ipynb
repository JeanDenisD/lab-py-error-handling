{
 "cells": [
  {
   "cell_type": "markdown",
   "metadata": {},
   "source": [
    "# LAB | Error Handling in Python\n",
    "\n",
    "## Overview\n",
    "This exercise notebook will help you practice error handling in Python using exceptions. You will write programs that handle various types of exceptions to ensure your code runs smoothly and handles errors gracefully."
   ]
  },
  {
   "cell_type": "markdown",
   "metadata": {},
   "source": [
    "### Exercise 1: Handle ZeroDivisionError\n",
    "Write a Python program to handle a `ZeroDivisionError` exception when dividing a number by zero.\n"
   ]
  },
  {
   "cell_type": "code",
   "execution_count": 1,
   "metadata": {},
   "outputs": [
    {
     "name": "stdout",
     "output_type": "stream",
     "text": [
      "Error: Cannot divide by zero.\n"
     ]
    }
   ],
   "source": [
    "# Your code here\n",
    "numerator = 10\n",
    "denominator = 0\n",
    "\n",
    "try:\n",
    "    result = numerator / denominator\n",
    "    print(\"Result:\", result)\n",
    "except ZeroDivisionError:\n",
    "    print(\"Error: Cannot divide by zero.\")"
   ]
  },
  {
   "cell_type": "markdown",
   "metadata": {},
   "source": [
    "\n",
    "### Exercise 2: Raise ValueError for Invalid Input\n",
    "Write a Python program that prompts the user to input an integer and raises a `ValueError` exception if the input is not a valid integer.\n",
    "\n"
   ]
  },
  {
   "cell_type": "code",
   "execution_count": 4,
   "metadata": {},
   "outputs": [
    {
     "name": "stdout",
     "output_type": "stream",
     "text": [
      "You entered a valid integer: 12\n"
     ]
    }
   ],
   "source": [
    "# Your code here\n",
    "try:\n",
    "    user_input = input(\"Enter an integer here: \")\n",
    "    value = int(user_input)                         # in function is checking if the value is an integer or not\n",
    "    print(f\"You entered a valid integer: {value}\")\n",
    "except ValueError:\n",
    "    raise ValueError(\"Invalid input: not an integer.\")"
   ]
  },
  {
   "cell_type": "markdown",
   "metadata": {},
   "source": [
    "\n",
    "\n",
    "### Exercise 3: Handle FileNotFoundError\n",
    "Write a Python program that opens a file and handles a `FileNotFoundError` exception if the file does not exist.\n",
    "\n"
   ]
  },
  {
   "cell_type": "code",
   "execution_count": 6,
   "metadata": {},
   "outputs": [
    {
     "name": "stdout",
     "output_type": "stream",
     "text": [
      "Error: The file '../README.md' was not found.\n"
     ]
    }
   ],
   "source": [
    "# Your code here\n",
    "try:\n",
    "    location = '../README.md'\n",
    "    with open(location, 'r', encoding=\"utf8\") as f:\n",
    "        readme = f.read().split(' ')\n",
    "except FileNotFoundError:\n",
    "     print(f\"Error: The file '{location}' was not found.\")"
   ]
  },
  {
   "cell_type": "markdown",
   "metadata": {},
   "source": [
    "\n",
    "\n",
    "### Exercise 4: Raise TypeError for Non-Numerical Input\n",
    "Write a Python program that prompts the user to input two numbers and raises a `TypeError` exception if the inputs are not numerical.\n",
    "\n"
   ]
  },
  {
   "cell_type": "code",
   "execution_count": 12,
   "metadata": {},
   "outputs": [
    {
     "name": "stdout",
     "output_type": "stream",
     "text": [
      "Invalid input: inputs must be two valid numbers.\n"
     ]
    }
   ],
   "source": [
    "# Your code here\n",
    "def isnum(num1, num2):\n",
    "    try:\n",
    "        float(num1)\n",
    "        float(num2)\n",
    "        return True\n",
    "    except ValueError:\n",
    "        return False\n",
    "\n",
    "try:\n",
    "    user_input1 = input(\"Enter a number: \")\n",
    "    user_input2 = input(\"Enter another number: \")\n",
    "\n",
    "    if not isnum(user_input1, user_input2):\n",
    "        raise TypeError(\"Invalid input: inputs must be two valid numbers.\")\n",
    "\n",
    "    print(f\"You entered two valid numbers: {user_input1} and {user_input2}\")\n",
    "\n",
    "except TypeError as e:\n",
    "    print(e)\n"
   ]
  },
  {
   "cell_type": "markdown",
   "metadata": {},
   "source": [
    "\n",
    "\n",
    "### Exercise 5: Handle PermissionError\n",
    "Write a Python program that opens a file and handles a `PermissionError` exception if there is a permission issue.\n",
    "\n",
    "\n"
   ]
  },
  {
   "cell_type": "code",
   "execution_count": null,
   "metadata": {},
   "outputs": [],
   "source": [
    "# Your code here\n",
    "try:\n",
    "    location = '../README.md'\n",
    "    with open(location, 'r', encoding=\"utf8\") as f:\n",
    "        readme = f.read().split(' ')\n",
    "except PermissionError:\n",
    "    print(f\"Error: You need permission to open file '{location}'.\")"
   ]
  },
  {
   "cell_type": "markdown",
   "metadata": {},
   "source": [
    "\n",
    "\n",
    "### Exercise 6: Handle IndexError in List Operations\n",
    "Write a Python program that executes an operation on a list and handles an `IndexError` exception if the index is out of range.\n",
    "\n",
    "\n"
   ]
  },
  {
   "cell_type": "code",
   "execution_count": 13,
   "metadata": {},
   "outputs": [
    {
     "name": "stdout",
     "output_type": "stream",
     "text": [
      "Error: Index 5 is out of range for the list.\n"
     ]
    }
   ],
   "source": [
    "# Your code here\n",
    "my_list = [10, 20, 30]\n",
    "\n",
    "try:\n",
    "    index = 5\n",
    "    print(f\"Value at index {index} is {my_list[index]}\")\n",
    "except IndexError:\n",
    "    print(f\"Error: Index {index} is out of range for the list.\")"
   ]
  },
  {
   "cell_type": "markdown",
   "metadata": {},
   "source": [
    "\n",
    "\n",
    "### Exercise 7: Handle KeyboardInterrupt Exception\n",
    "Write a Python program that prompts the user to input a number and handles a `KeyboardInterrupt` exception if the user cancels the input.\n",
    "\n"
   ]
  },
  {
   "cell_type": "code",
   "execution_count": null,
   "metadata": {},
   "outputs": [
    {
     "name": "stdout",
     "output_type": "stream",
     "text": [
      "You entered: \n"
     ]
    }
   ],
   "source": [
    "# Your code here\n",
    "try:\n",
    "    number = input(\"Enter a number (or press Ctrl+C to cancel): \") #This code work in a terminal but not in Jupiter within VS Code\n",
    "    print(f\"You entered: {number}\")\n",
    "except KeyboardInterrupt:\n",
    "    print(\"\\nInput cancelled by user (Ctrl+C).\")\n"
   ]
  },
  {
   "cell_type": "markdown",
   "metadata": {},
   "source": [
    "\n",
    "\n",
    "### Exercise 8: Handle ArithmeticError\n",
    "Write a Python program that executes division and handles an `ArithmeticError` exception if there is an arithmetic error.\n",
    "\n"
   ]
  },
  {
   "cell_type": "code",
   "execution_count": null,
   "metadata": {},
   "outputs": [],
   "source": [
    "# Your code here\n",
    "numerator = 10\n",
    "denominator = 0\n",
    "\n",
    "try:\n",
    "    result = numerator / denominator\n",
    "    print(\"Result:\", result)\n",
    "except ZeroDivisionError:\n",
    "    print(\"Error: Cannot divide by zero.\")\n",
    "except ArithmeticError:\n",
    "    print(\"Error: Some other arithmetic error occurred.\")"
   ]
  },
  {
   "cell_type": "markdown",
   "metadata": {},
   "source": [
    "\n",
    "\n",
    "### Exercise 9: Handle UnicodeDecodeError\n",
    "Write a Python program that opens a file and handles a `UnicodeDecodeError` exception if there is an encoding issue.\n",
    "\n"
   ]
  },
  {
   "cell_type": "code",
   "execution_count": null,
   "metadata": {},
   "outputs": [],
   "source": [
    "# Your code here\n",
    "try:\n",
    "    location = 'data.txt'  \n",
    "    with open(location, 'r', encoding='utf-8') as f:\n",
    "        content = f.read()\n",
    "        print(content)\n",
    "except UnicodeDecodeError:\n",
    "    print(f\"Error: Unable to decode file '{location}' due to encoding issue.\")\n"
   ]
  },
  {
   "cell_type": "markdown",
   "metadata": {},
   "source": [
    "\n",
    "\n",
    "### Exercise 10: Handle AttributeError\n",
    "Write a Python program that executes an operation on an object and handles an `AttributeError` exception if the attribute does not exist.\n",
    "\n"
   ]
  },
  {
   "cell_type": "code",
   "execution_count": null,
   "metadata": {},
   "outputs": [],
   "source": [
    "# Your code here\n",
    "\n",
    "class Book:\n",
    "    def __init__(self, title):\n",
    "        self.title = title\n",
    "\n",
    "book = Book(\"The Prophet\")\n",
    "\n",
    "try:\n",
    "    print(book.author)  # This attribute doesn't exist for example\n",
    "except AttributeError:\n",
    "    print(\"Error: The attribute 'author' does not exist in the object.\")\n"
   ]
  },
  {
   "cell_type": "markdown",
   "metadata": {},
   "source": [
    "\n",
    "\n",
    "## Bonus Exercises\n",
    "\n",
    "### Bonus Exercise 1: Handle Multiple Exceptions\n",
    "Write a Python program that demonstrates handling multiple exceptions in one block.\n",
    "\n",
    "\n"
   ]
  },
  {
   "cell_type": "code",
   "execution_count": null,
   "metadata": {},
   "outputs": [],
   "source": [
    "# Your code here\n",
    "\n",
    "try:\n",
    "    numerator = int(input(\"Enter numerator: \"))\n",
    "    denominator = int(input(\"Enter denominator: \"))\n",
    "    result = numerator / denominator\n",
    "    print(\"Result:\", result)\n",
    "\n",
    "except ValueError:\n",
    "    print(\"Error: You must enter valid integers.\")\n",
    "except ZeroDivisionError:\n",
    "    print(\"Error: Cannot divide by zero.\")\n",
    "except Exception as e:\n",
    "    print(\"Unexpected error:\", type(e).__name__, \"-\", e)\n"
   ]
  },
  {
   "cell_type": "markdown",
   "metadata": {},
   "source": [
    "\n",
    "\n",
    "### Bonus Exercise 2: Create Custom Exception\n",
    "Create a custom exception class and raise it in your code when certain conditions are met.\n",
    "\n",
    "\n"
   ]
  },
  {
   "cell_type": "code",
   "execution_count": null,
   "metadata": {},
   "outputs": [],
   "source": [
    "# Your code here\n",
    "\n",
    "# Custom exception\n",
    "class NegativeNumberError(Exception):\n",
    "    \"\"\"Raised when the input number is negative.\"\"\"\n",
    "    pass\n",
    "\n",
    "try:\n",
    "    number = int(input(\"Enter a positive number: \"))\n",
    "    if number < 0:\n",
    "        raise NegativeNumberError(\"Negative numbers are not allowed.\")\n",
    "    print(f\"You entered: {number}\")\n",
    "\n",
    "except NegativeNumberError as e:\n",
    "    print(\"Custom Error:\", e)\n",
    "except ValueError:\n",
    "    print(\"Error: You must enter a valid integer.\")\n"
   ]
  },
  {
   "cell_type": "markdown",
   "metadata": {},
   "source": [
    "\n",
    "\n",
    "### Bonus Exercise 3: Validate User Input with Exception Handling\n",
    "Write a program that repeatedly prompts the user for valid input until they provide it, using exception handling to manage invalid inputs.\n",
    "\n"
   ]
  },
  {
   "cell_type": "code",
   "execution_count": null,
   "metadata": {},
   "outputs": [],
   "source": [
    "# Your code here\n",
    "\n",
    "while True:\n",
    "    try:\n",
    "        user_input = input(\"Enter a positive integer: \")\n",
    "        value = int(user_input)\n",
    "\n",
    "        if value < 0:\n",
    "            raise ValueError(\"Number must be positive.\")\n",
    "\n",
    "        print(f\"Valid input: {value}\")\n",
    "        break  # on sort de la boucle si tout est OK\n",
    "\n",
    "    except ValueError as e:\n",
    "        print(\"Invalid input:\", e)\n"
   ]
  },
  {
   "cell_type": "markdown",
   "metadata": {},
   "source": [
    "\n",
    "\n",
    "### Bonus Exercise 4: Log Errors to File\n",
    "Modify your error handling to log errors to a text file instead of printing them to the console.\n",
    "\n"
   ]
  },
  {
   "cell_type": "code",
   "execution_count": null,
   "metadata": {},
   "outputs": [],
   "source": [
    "# Your code here\n",
    "\n",
    "def log_error(message):\n",
    "    with open(\"errors.log\", \"a\", encoding=\"utf-8\") as log_file:\n",
    "        log_file.write(message + \"\\n\")\n",
    "\n",
    "try:\n",
    "    number = int(input(\"Enter an integer: \"))\n",
    "    result = 10 / number\n",
    "    print(\"Result:\", result)\n",
    "\n",
    "except ValueError as e:\n",
    "    log_error(f\"ValueError: {e}\")\n",
    "except ZeroDivisionError as e:\n",
    "    log_error(f\"ZeroDivisionError: {e}\")\n",
    "except Exception as e:\n",
    "    log_error(f\"Unexpected error: {type(e).__name__} - {e}\")\n"
   ]
  },
  {
   "cell_type": "markdown",
   "metadata": {},
   "source": [
    "\n",
    "\n",
    "### Bonus Exercise 5: Retry Logic on Exception\n",
    "Implement retry logic for operations that could fail, allowing users to try again after encountering an error.\n",
    "\n"
   ]
  },
  {
   "cell_type": "code",
   "execution_count": null,
   "metadata": {},
   "outputs": [],
   "source": [
    "# Your code here\n",
    "\n",
    "while True:\n",
    "    try:\n",
    "        num = int(input(\"Enter a numerator: \"))\n",
    "        denom = int(input(\"Enter a denominator: \"))\n",
    "        result = num / denom\n",
    "        print(\"Result:\", result)\n",
    "        break  # ✅ Success : we exit the loop\n",
    "\n",
    "    except ValueError:\n",
    "        print(\"Error: Please enter valid integers.\")\n",
    "\n",
    "    except ArithmeticError as e:\n",
    "        print(f\"Arithmetic error: {type(e).__name__} - {e}. Please try again.\")\n"
   ]
  }
 ],
 "metadata": {
  "kernelspec": {
   "display_name": "base",
   "language": "python",
   "name": "python3"
  },
  "language_info": {
   "codemirror_mode": {
    "name": "ipython",
    "version": 3
   },
   "file_extension": ".py",
   "mimetype": "text/x-python",
   "name": "python",
   "nbconvert_exporter": "python",
   "pygments_lexer": "ipython3",
   "version": "3.12.7"
  }
 },
 "nbformat": 4,
 "nbformat_minor": 2
}
